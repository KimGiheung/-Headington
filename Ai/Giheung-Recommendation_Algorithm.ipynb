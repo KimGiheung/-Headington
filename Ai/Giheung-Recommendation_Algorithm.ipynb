{
  "nbformat": 4,
  "nbformat_minor": 0,
  "metadata": {
    "colab": {
      "provenance": []
    },
    "kernelspec": {
      "name": "python3",
      "display_name": "Python 3"
    },
    "language_info": {
      "name": "python"
    }
  },
  "cells": [
    {
      "cell_type": "markdown",
      "source": [
        "#1 거리기반 필터링 - NN(NearestNeighbors)\n",
        "---\n",
        "* 가장 가까운 거리에 있는 수유실을 찾아서 n개(n = 3)를 추천하는 모델\n",
        "* input  \n",
        " {'nursing_room_id': [1, 2, 3, 4, 5],  \n",
        "    'latitude': [37.1, 37.2, 37.3, 37.4, 37.5],  \n",
        "    'longitude': [127.1, 127.2, 127.3, 127.4, 127.5],}\n",
        "* output\n",
        " {\n",
        "\n"
      ],
      "metadata": {
        "id": "1gd0cnVuxpzv"
      }
    },
    {
      "cell_type": "code",
      "source": [
        "import pandas as pd\n",
        "import"
      ],
      "metadata": {
        "id": "6tP4u1nu0v6O"
      },
      "execution_count": null,
      "outputs": []
    },
    {
      "cell_type": "code",
      "execution_count": null,
      "metadata": {
        "colab": {
          "base_uri": "https://localhost:8080/"
        },
        "id": "L-VFfArDqBeF",
        "outputId": "d7127bd1-4dc7-4b1e-8358-e3e74c53bd2d"
      },
      "outputs": [
        {
          "output_type": "stream",
          "name": "stdout",
          "text": [
            "   nursing_room_id  latitude  longitude  rating\n",
            "2                3      37.3      127.3     5.0\n",
            "0                1      37.1      127.1     4.5\n",
            "1                2      37.2      127.2     3.0\n"
          ]
        },
        {
          "output_type": "stream",
          "name": "stderr",
          "text": [
            "/usr/local/lib/python3.10/dist-packages/sklearn/base.py:439: UserWarning: X does not have valid feature names, but NearestNeighbors was fitted with feature names\n",
            "  warnings.warn(\n"
          ]
        }
      ],
      "source": [
        "import pandas as pd\n",
        "from sklearn.neighbors import NearestNeighbors\n",
        "\n",
        "# 예시 데이터셋\n",
        "# columns: ['nursing_room_id', 'latitude', 'longitude', 'rating']\n",
        "nursing_rooms = pd.DataFrame({\n",
        "    'nursing_room_id': [1, 2, 3, 4, 5],\n",
        "    'latitude': [37.1, 37.2, 37.3, 37.4, 37.5],\n",
        "    'longitude': [127.1, 127.2, 127.3, 127.4, 127.5],\n",
        "    'rating': [4.5, 3.0, 5.0, 4.0, 4.8]\n",
        "})\n",
        "\n",
        "# 사용자의 현재 위치\n",
        "user_location = {'latitude': 37.25, 'longitude': 127.25}\n",
        "\n",
        "# 거리 기반으로 수유실을 필터링하기 위한 NearestNeighbors 모델\n",
        "knn = NearestNeighbors(n_neighbors=3, algorithm='ball_tree').fit(nursing_rooms[['latitude', 'longitude']])\n",
        "\n",
        "# 사용자 위치에서 가장 가까운 3개의 수유실 찾기\n",
        "distances, indices = knn.kneighbors([list(user_location.values())])\n",
        "\n",
        "# 가까운 수유실의 인덱스 가져오기\n",
        "nearby_nursing_rooms = nursing_rooms.iloc[indices[0]]\n",
        "\n",
        "# 평점으로 상위 3개의 수유실 정렬\n",
        "top_nursing_rooms = nearby_nursing_rooms.sort_values(by='rating', ascending=False).head(3)\n",
        "\n",
        "print(top_nursing_rooms)\n"
      ]
    },
    {
      "cell_type": "markdown",
      "source": [],
      "metadata": {
        "id": "YQtat9ET3L-h"
      }
    },
    {
      "cell_type": "markdown",
      "source": [
        "#1 거리 기반 필터링 - geopy 활용\n",
        "---\n",
        "* Python에서 geopy 라이브러리를 사용하여 거리를 계산하여\n",
        "* python 내장 함수 sorted()로 순위를 나열하여 추천함.\n",
        "\n"
      ],
      "metadata": {
        "id": "R9STBE6B3OGr"
      }
    },
    {
      "cell_type": "code",
      "source": [
        "from geopy.distance import great_circle\n",
        "\n",
        "# 수유실 위치와 사용자 위치의 예시\n",
        "nursing_homes = [\n",
        "    {'id': 1, 'name': 'Nursing Home A', 'location': (37.7749, -122.4194)},\n",
        "    {'id': 2, 'name': 'Nursing Home B', 'location': (37.768, -122.422)},\n",
        "    # ... 추가 수유실 정보\n",
        "]\n",
        "\n",
        "user_location = (37.7749, -122.4194)\n",
        "\n",
        "# 거리 기반으로 수유실 정렬\n",
        "def sort_by_distance(user_location, nursing_homes):\n",
        "    return sorted(nursing_homes, key=lambda x: great_circle(user_location, x['location']).meters)\n",
        "\n",
        "sorted_nursing_homes = sort_by_distance(user_location, nursing_homes)"
      ],
      "metadata": {
        "id": "EFIrm8cY3HXi"
      },
      "execution_count": null,
      "outputs": []
    },
    {
      "cell_type": "markdown",
      "source": [
        "---"
      ],
      "metadata": {
        "id": "uCPY0RgpyEfG"
      }
    },
    {
      "cell_type": "markdown",
      "source": [
        "#2. 평점 기반 필터링\n",
        "---\n",
        "* user들이 남긴 평균 평점을 python 내장 함수 sorted()로 순위를 나열하여 추천함.\n",
        "\n"
      ],
      "metadata": {
        "id": "Uo3QLyGV39-z"
      }
    },
    {
      "cell_type": "code",
      "source": [
        "# 각 수유실에 대한 user들의 평균 평점\n",
        "nursing_homes = [\n",
        "    {'id': 1, 'name': 'Nursing Home A', 'avg_rating': 4.5},\n",
        "    {'id': 2, 'name': 'Nursing Home B', 'avg_rating': 4.0},\n",
        "    # ...\n",
        "]\n",
        "\n",
        "# 평점 기반으로 수유실 정렬\n",
        "def sort_by_rating(nursing_homes):\n",
        "    return sorted(nursing_homes, key=lambda x: x['rating'], reverse=True)\n",
        "\n",
        "sorted_by_rating = sort_by_rating(nursing_homes)"
      ],
      "metadata": {
        "id": "cftPkPF04Npx"
      },
      "execution_count": null,
      "outputs": []
    },
    {
      "cell_type": "markdown",
      "source": [
        "\n",
        "\n",
        "---\n",
        "\n"
      ],
      "metadata": {
        "id": "hCfLke064fBo"
      }
    },
    {
      "cell_type": "markdown",
      "source": [
        "#3. 리뷰 기반 텍스트 분석\n",
        "---\n",
        "* 리뷰 텍스트에서 감정을 분석하고 긍정적인 리뷰 비율을 계산"
      ],
      "metadata": {
        "id": "3zD5ZUsS4g9H"
      }
    },
    {
      "cell_type": "code",
      "source": [
        "from textblob import TextBlob\n",
        "\n",
        "# 리뷰 데이터가 있다고 가정\n",
        "nursing_homes = [\n",
        "    {'id': 1, 'name': 'Nursing Home A', 'reviews': ['Great place!', 'Very caring staff.']},\n",
        "    {'id': 2, 'name': 'Nursing Home B', 'reviews': ['Not very clean.', 'Could be better.']},\n",
        "    # ...\n",
        "]\n",
        "\n",
        "# 리뷰의 감정 분석을 통해 긍정적인 리뷰 비율을 계산\n",
        "def calculate_positive_review_ratio(nursing_home):\n",
        "    positive_reviews = 0\n",
        "    for review in nursing_home['reviews']:\n",
        "        analysis = TextBlob(review)\n",
        "        if analysis.sentiment.polarity > 0:  # 긍정적인 리뷰\n",
        "            positive_reviews += 1\n",
        "    return positive_reviews / len(nursing_home['reviews']) if nursing_home['reviews'] else 0\n",
        "\n",
        "# 수유실을 긍정적인 리뷰 비율에 따라 정렬\n",
        "def sort_by_positive_reviews(nursing_homes):\n",
        "    for home in nursing_homes:\n",
        "        home['positive_review_ratio'] = calculate_positive_review_ratio(home)\n",
        "    return sorted(nursing_homes, key=lambda x: x['positive_review_ratio'], reverse=True)\n",
        "\n",
        "sorted_by_reviews = sort_by_positive_reviews(nursing_homes)"
      ],
      "metadata": {
        "id": "-VBa3WNU4kA5"
      },
      "execution_count": null,
      "outputs": []
    },
    {
      "cell_type": "markdown",
      "source": [
        "\n",
        "\n",
        "---\n",
        "\n"
      ],
      "metadata": {
        "id": "CTyTzZhr4jvr"
      }
    },
    {
      "cell_type": "markdown",
      "source": [
        "#4. 협업 필터링\n",
        "---\n",
        "* 사용자와 수유실 간의 평점 행렬이 필요\n",
        "* surprise 라이브러리 활용"
      ],
      "metadata": {
        "id": "KFD7t1Sz5HyY"
      }
    },
    {
      "cell_type": "code",
      "source": [
        "from surprise import Dataset, Reader, KNNBasic, accuracy\n",
        "from surprise.model_selection import train_test_split\n",
        "\n",
        "# 평점 데이터가 있다고 가정\n",
        "ratings_dict = {\n",
        "    'itemID': [1, 1, 2, 2, 3, 3],\n",
        "    'userID': [9, 32, 2, 45, 'user', 5],\n",
        "    'rating': [3, 2, 4, 3, 5, 3],\n",
        "}\n",
        "\n",
        "df = pd.DataFrame(ratings_dict)\n",
        "reader = Reader(rating_scale=(1, 5))\n",
        "\n",
        "# 데이터셋 로드\n",
        "data = Dataset.load_from_df(df[['userID', 'itemID', 'rating']], reader)\n",
        "\n",
        "# 훈련셋과 테스트셋을 분리\n",
        "trainset, testset = train_test_split(data, test_size=.25)\n",
        "\n",
        "# 협업 필터링 모델을 사용\n",
        "algo = KNNBasic()\n",
        "algo.fit(trainset)\n",
        "\n",
        "# 모델 평가\n",
        "predictions = algo.test(testset)\n",
        "accuracy.rmse(predictions)"
      ],
      "metadata": {
        "id": "3o9ZcrD55Ky3"
      },
      "execution_count": null,
      "outputs": []
    },
    {
      "cell_type": "markdown",
      "source": [
        "\n",
        "\n",
        "---\n",
        "\n"
      ],
      "metadata": {
        "id": "dyWbh-8-5HyY"
      }
    },
    {
      "cell_type": "markdown",
      "source": [
        "#5. 콘텐츠 기반 추천\n",
        "---\n",
        "* 수유실의 특성을 기반으로 추천하는 모델\n",
        "* 각 수유실의 특성 벡터를 만들고, 사용자의 과거 평점을 기반으로 추천"
      ],
      "metadata": {
        "id": "ff4UbcpQ5IT7"
      }
    },
    {
      "cell_type": "code",
      "source": [
        "from sklearn.feature_extraction.text import TfidfVectorizer\n",
        "from sklearn.metrics.pairwise import cosine_similarity\n",
        "\n",
        "# 수유실의 특성을 문자열로 나타냄\n",
        "nursing_homes = [\n",
        "    {'id': 1, 'name': 'Nursing Home A', 'features': 'clean comfortable'},\n",
        "    {'id': 2, 'name': 'Nursing Home B', 'features': 'cheap spacious'},\n",
        "    #\n",
        "]\n",
        "\n",
        "# TF-IDF 벡터화\n",
        "tfidf = TfidfVectorizer(stop_words='english')\n",
        "tfidf_matrix = tfidf.fit_transform([x['features'] for x in nursing_homes])\n",
        "\n",
        "# 사용자가 과거에 평점을 높게 준 수유실의 특성을 기반으로 추천\n",
        "user_profile = tfidf.transform(['clean comfortable spacious'])\n",
        "\n",
        "# 코사인 유사도 계산\n",
        "cosine_sim = cosine_similarity(user_profile, tfidf_matrix)\n",
        "\n",
        "# 가장 유사도가 높은 수유실을 추천\n",
        "recommended_nursing_homes = cosine_sim.argsort()[0][-3:][::-1]\n",
        "\n",
        "for idx in recommended_nursing_homes:\n",
        "    print(nursing_homes[idx])\n"
      ],
      "metadata": {
        "id": "OEghxd_s5LT4"
      },
      "execution_count": null,
      "outputs": []
    },
    {
      "cell_type": "markdown",
      "source": [
        "\n",
        "\n",
        "---\n",
        "\n"
      ],
      "metadata": {
        "id": "8QuPZhmT5IT8"
      }
    },
    {
      "cell_type": "markdown",
      "source": [
        "#6. 기계학습 모델\n",
        "---\n",
        "* 기계학습 모델을 사용하여 사용자의 행동을 학습하고 추천을 수행\n",
        "* RandomForestClassifier모델 활용"
      ],
      "metadata": {
        "id": "CNF9f_4y5IrY"
      }
    },
    {
      "cell_type": "code",
      "source": [
        "from sklearn.ensemble import RandomForestClassifier\n",
        "\n",
        "# 특성과 라벨이 있다고 가정\n",
        "features = [[0, 1], [1, 1], [1, 0], [0, 0]]  # 예: [평점이 높은가, 긍정적 리뷰가 많은가]\n",
        "labels = [1, 1, 0, 0]  # 예: 사용자가 해당 수유실을 좋아할 것인가\n",
        "\n",
        "# 랜덤 포레스트 분류기 생성\n",
        "clf = RandomForestClassifier(n_estimators=10)\n",
        "clf.fit(features, labels)\n",
        "\n",
        "# 새로운 수유실에 대한 예측\n",
        "new_nursing_home = [[0, 1]]  # 예: 평점은 낮지만 긍정적 리뷰가 많음\n",
        "print(clf.predict(new_nursing_home))"
      ],
      "metadata": {
        "id": "Se6QXjBx5LlA"
      },
      "execution_count": null,
      "outputs": []
    },
    {
      "cell_type": "markdown",
      "source": [
        "\n",
        "\n",
        "---\n",
        "\n"
      ],
      "metadata": {
        "id": "bHdlOrhD5IrY"
      }
    },
    {
      "cell_type": "markdown",
      "source": [
        "#7. 하이브리드 시스템\n",
        "---\n",
        "* 거리 기반 필터링으로 수유실 목록을 좁힌 후, 평점과 리뷰 기반의 점수를 결합\n",
        "* 거리 계산, 평점 및 리뷰 분석 등의 기능이 필요\n",
        "* 사용자의 현재 위치, 수유실의 위치와 평점, 그리고 리뷰의 감정 분석 결과를 기반으로 추천을 수행"
      ],
      "metadata": {
        "id": "dDH8PJxT5IuY"
      }
    },
    {
      "cell_type": "code",
      "source": [
        "!pip install geopy numpy textblob"
      ],
      "metadata": {
        "colab": {
          "base_uri": "https://localhost:8080/"
        },
        "id": "u3IB7iUu5L8o",
        "outputId": "55ab8278-f3a1-4507-8bde-afecf44fc970"
      },
      "execution_count": 1,
      "outputs": [
        {
          "output_type": "stream",
          "name": "stdout",
          "text": [
            "Requirement already satisfied: geopy in /usr/local/lib/python3.10/dist-packages (2.3.0)\n",
            "Requirement already satisfied: numpy in /usr/local/lib/python3.10/dist-packages (1.23.5)\n",
            "Requirement already satisfied: textblob in /usr/local/lib/python3.10/dist-packages (0.17.1)\n",
            "Requirement already satisfied: geographiclib<3,>=1.52 in /usr/local/lib/python3.10/dist-packages (from geopy) (2.0)\n",
            "Requirement already satisfied: nltk>=3.1 in /usr/local/lib/python3.10/dist-packages (from textblob) (3.8.1)\n",
            "Requirement already satisfied: click in /usr/local/lib/python3.10/dist-packages (from nltk>=3.1->textblob) (8.1.7)\n",
            "Requirement already satisfied: joblib in /usr/local/lib/python3.10/dist-packages (from nltk>=3.1->textblob) (1.3.2)\n",
            "Requirement already satisfied: regex>=2021.8.3 in /usr/local/lib/python3.10/dist-packages (from nltk>=3.1->textblob) (2023.6.3)\n",
            "Requirement already satisfied: tqdm in /usr/local/lib/python3.10/dist-packages (from nltk>=3.1->textblob) (4.66.1)\n"
          ]
        }
      ]
    },
    {
      "cell_type": "code",
      "source": [
        "from geopy.distance import great_circle\n",
        "import numpy as np\n",
        "from textblob import TextBlob\n",
        "\n",
        "# 예제 데이터\n",
        "# 사용자의 현재 위치\n",
        "current_location = (37.7749, -122.4194)\n",
        "\n",
        "# 수유실 목록: 각각의 위치, 평점, 리뷰\n",
        "nursing_rooms = [\n",
        "    {'name': 'Room A', 'location': (37.7749, -122.431297), 'rating': 4.5, 'reviews': ['Clean and comfortable', 'Spacious']},\n",
        "    {'name': 'Room B', 'location': (37.768, -122.422), 'rating': 4.0, 'reviews': ['A bit crowded', 'Good service']},\n",
        "    {'name': 'Room C', 'location': (37.761, -122.435), 'rating': 3.5, 'reviews': ['Small but clean', 'Not very comfortable']},\n",
        "    # 더 많은 수유실 데이터가 있다고 가정\n",
        "]\n",
        "\n",
        "# 거리 계산 함수\n",
        "def calculate_distance(location1, location2):\n",
        "    return great_circle(location1, location2).kilometers\n",
        "\n",
        "# 평점 계산 함수\n",
        "def calculate_rating(ratings):\n",
        "    return np.mean(ratings)\n",
        "\n",
        "# 감정 분석 함수\n",
        "def analyze_sentiments(reviews):\n",
        "    sentiments = [TextBlob(review).sentiment.polarity for review in reviews]\n",
        "    return np.mean(sentiments)\n",
        "\n",
        "# 하이브리드 추천 시스템\n",
        "def hybrid_recommendation(current_location, nursing_rooms):\n",
        "    recommendations = []\n",
        "    for room in nursing_rooms:\n",
        "        distance = calculate_distance(current_location, room['location'])\n",
        "        rating_score = calculate_rating([room['rating']])\n",
        "        sentiment_score = analyze_sentiments(room['reviews'])\n",
        "        # 가중치는 여러분의 요구 사항에 따라 조정할 수 있음\n",
        "        distance_weight = 1.0\n",
        "        rating_weight = 1.0\n",
        "        sentiment_weight = 1.0\n",
        "        # 거리는 가까울수록 좋으므로 거리의 역수를 사용\n",
        "        score = (rating_weight * rating_score + sentiment_weight * sentiment_score) / (distance_weight * distance)\n",
        "        recommendations.append((room['name'], score))\n",
        "\n",
        "    # 점수가 높은 순서로 정렬\n",
        "    recommendations.sort(key=lambda x: x[1], reverse=True)\n",
        "    return recommendations\n",
        "\n",
        "# 추천 시스템 실행\n",
        "recommendations = hybrid_recommendation(current_location, nursing_rooms)\n",
        "for recommendation in recommendations:\n",
        "    print(recommendation)\n"
      ],
      "metadata": {
        "colab": {
          "base_uri": "https://localhost:8080/"
        },
        "id": "2sHS5hfj6l9P",
        "outputId": "715084ae-16b4-4ad2-b533-6ea9f25c56cc"
      },
      "execution_count": 2,
      "outputs": [
        {
          "output_type": "stream",
          "name": "stdout",
          "text": [
            "('Room B', 5.433716853681635)\n",
            "('Room A', 4.486878319482427)\n",
            "('Room C', 1.6708159550985253)\n"
          ]
        }
      ]
    },
    {
      "cell_type": "markdown",
      "source": [
        "\n",
        "\n",
        "---\n",
        "\n"
      ],
      "metadata": {
        "id": "mXS5NHKg5IuZ"
      }
    },
    {
      "cell_type": "markdown",
      "source": [
        "#3. 리뷰 기반 텍스트 분석\n",
        "---\n",
        "* 리뷰 텍스트에서 감정을 분석하고 긍정적인 리뷰 비율을 계산"
      ],
      "metadata": {
        "id": "M-QpNcOJ5IxQ"
      }
    },
    {
      "cell_type": "code",
      "source": [],
      "metadata": {
        "id": "tNubvR8U5MVY"
      },
      "execution_count": null,
      "outputs": []
    },
    {
      "cell_type": "markdown",
      "source": [
        "\n",
        "\n",
        "---\n",
        "\n"
      ],
      "metadata": {
        "id": "Omg73w7F5IxQ"
      }
    }
  ]
}