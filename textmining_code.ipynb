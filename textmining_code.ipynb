{
  "nbformat": 4,
  "nbformat_minor": 0,
  "metadata": {
    "colab": {
      "provenance": [],
      "authorship_tag": "ABX9TyMQYr53/XL8uYA/Hk2oXxns",
      "include_colab_link": true
    },
    "kernelspec": {
      "name": "python3",
      "display_name": "Python 3"
    },
    "language_info": {
      "name": "python"
    }
  },
  "cells": [
    {
      "cell_type": "markdown",
      "metadata": {
        "id": "view-in-github",
        "colab_type": "text"
      },
      "source": [
        "<a href=\"https://colab.research.google.com/github/KimGiheung/MamMaMap/blob/yubin%2Fdata1/textmining_code.ipynb\" target=\"_parent\"><img src=\"https://colab.research.google.com/assets/colab-badge.svg\" alt=\"Open In Colab\"/></a>"
      ]
    },
    {
      "cell_type": "code",
      "source": [
        "##review textmining code baseline\n",
        "!pip install konlpy\n",
        "\n",
        "import pandas as pd\n",
        "from konlpy.tag import Okt\n",
        "from collections import Counter\n",
        "\n",
        "# 리뷰 데이터 로드\n",
        "reviews = pd.read_csv('reviews.csv')\n",
        "\n",
        "# KoNLPy의 Okt 형태소 분석기를 사용하여 텍스트 토큰화\n",
        "okt = Okt()\n",
        "tokens = []\n",
        "for review in reviews['리뷰']:\n",
        "    words = okt.nouns(review)\n",
        "    tokens.extend(words)\n",
        "\n",
        "# 불용어 제거를 위한 사용자 지정 불용어 목록\n",
        "stop_words = ['을', '를', '이', '가', '은', '는']\n",
        "\n",
        "# 불용어 및 짧은 단어 제거\n",
        "filtered_words = [word for word in tokens if word not in stop_words and len(word) > 1]\n",
        "\n",
        "# 단어 빈도수 계산\n",
        "word_counts = Counter(filtered_words)\n",
        "\n",
        "# 가장 빈도가 높은 상위 5개 단어 추출\n",
        "top_words = word_counts.most_common(5)\n",
        "\n",
        "print(\"가장 빈도가 높은 상위 5개 단어:\")\n",
        "for word, count in top_words:\n",
        "    print(f'{word}: {count}번')\n"
      ],
      "metadata": {
        "id": "mSvxMZ8b-yBY"
      },
      "execution_count": null,
      "outputs": []
    },
    {
      "cell_type": "markdown",
      "source": [
        "review csv파일 제공받은 후 추가 전처리 예정"
      ],
      "metadata": {
        "id": "6QgP_aucTY8v"
      }
    }
  ]
}